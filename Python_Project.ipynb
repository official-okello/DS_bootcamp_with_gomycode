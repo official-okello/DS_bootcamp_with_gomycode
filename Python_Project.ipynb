{
  "nbformat": 4,
  "nbformat_minor": 0,
  "metadata": {
    "colab": {
      "provenance": [],
      "authorship_tag": "ABX9TyMEBzmJPXBUlkkTZr/8Z0jh",
      "include_colab_link": true
    },
    "kernelspec": {
      "name": "python3",
      "display_name": "Python 3"
    },
    "language_info": {
      "name": "python"
    }
  },
  "cells": [
    {
      "cell_type": "markdown",
      "metadata": {
        "id": "view-in-github",
        "colab_type": "text"
      },
      "source": [
        "<a href=\"https://colab.research.google.com/github/official-okello/DS_bootcamp_with_gomycode/blob/master/Python_Project.ipynb\" target=\"_parent\"><img src=\"https://colab.research.google.com/assets/colab-badge.svg\" alt=\"Open In Colab\"/></a>"
      ]
    },
    {
      "cell_type": "code",
      "source": [
        "import math\n",
        "\n",
        "class Calculator:\n",
        "  def __init__(self):\n",
        "    operators = {\n",
        "        '+': self.add,\n",
        "        '-': self.subtract,\n",
        "        '*': self.multiply,\n",
        "        '/': self.divide,\n",
        "    }\n",
        "    self.operators = operators\n",
        "\n",
        "  def add(self, num1, num2):\n",
        "    return num1 + num2\n",
        "\n",
        "  def subtract(self, num1, num2):\n",
        "    return num1 - num2\n",
        "\n",
        "  def multiply(self, num1, num2):\n",
        "    return num1 * num2\n",
        "\n",
        "  def divide(self, num1, num2):\n",
        "    if num2 == 0:\n",
        "      raise ValueError('Cannot divide by zero')\n",
        "    return num1 / num2\n",
        "\n",
        "  def add_operation(self, operator, function):\n",
        "    return self.operators.update({operator: function})\n",
        "\n",
        "  def calculate(self, num1, operator, num2=None):\n",
        "    if operator not in self.operators:\n",
        "      raise ValueError('Invalid operator, use *,/,+,-,^,sqrt,log')\n",
        "    if operator == 'sqrt':\n",
        "      return self.operators[operator](num1)\n",
        "    if num1 == '' or num2 == '':\n",
        "      raise ValueError('Invalid input, should not be empty')\n",
        "    if not isinstance(num1, (int, float)) or not isinstance(num2, (int, float)):\n",
        "      raise ValueError('Input should be  a number or float')\n",
        "    return self.operators[operator](num1, num2)\n",
        "\n",
        "main_calculator = Calculator()\n",
        "\n",
        "while True:\n",
        "  main_calculator.add_operation('^', lambda x, y: x ** y)\n",
        "  main_calculator.add_operation('sqrt', lambda x: x ** 0.5)\n",
        "  main_calculator.add_operation('log', lambda x, y: math.log(x, y))\n",
        "\n",
        "  print('Welcome to the calculator you human')\n",
        "  print('Available operators: +, -, *, /, ^, sqrt, log')\n",
        "  print('Enter \"exit\" to quit')\n",
        "\n",
        "  try:\n",
        "    operator = input('Enter operator: ').lower()\n",
        "    if operator == 'exit' or operator == 'quit':\n",
        "      print('Goodbye!')\n",
        "      break\n",
        "    if operator == 'sqrt':\n",
        "      num1 = float(input('Enter number: '))\n",
        "      result = main_calculator.calculate(num1, operator)\n",
        "      print(f'sqrt({num1}) = {result}')\n",
        "    else:\n",
        "      num1 = float(input('Enter first number: '))\n",
        "      num2 = float(input('Enter second number: '))\n",
        "      result = main_calculator.calculate(num1, operator, num2)\n",
        "      print(f'{num1} {operator} {num2} = {result}')\n",
        "\n",
        "  except ValueError as e:\n",
        "    print(e)\n",
        "  except Exception as e:\n",
        "    print(e)\n",
        "\n",
        "  continue_calc = input('Do you want to continue? (y/n): ')\n",
        "  if continue_calc.strip().lower() != 'y':\n",
        "    print('Goodbye!')\n",
        "    break"
      ],
      "metadata": {
        "colab": {
          "base_uri": "https://localhost:8080/"
        },
        "id": "GO0qOk8_VgSj",
        "outputId": "1a8bad94-ef25-47cc-a5f7-bd3309198d2c"
      },
      "execution_count": null,
      "outputs": [
        {
          "output_type": "stream",
          "name": "stdout",
          "text": [
            "Welcome to the calculator you human\n",
            "Available operators: +, -, *, /, ^, sqrt, log\n",
            "Enter \"exit\" to quit\n",
            "Enter operator: sqrt\n",
            "Enter number: 4\n",
            "sqrt(4.0) = 2.0\n",
            "Do you want to continue? (y/n): y\n",
            "Welcome to the calculator you human\n",
            "Available operators: +, -, *, /, ^, sqrt, log\n",
            "Enter \"exit\" to quit\n",
            "Enter operator: log\n",
            "Enter first number: 2\n",
            "Enter second number: 4\n",
            "2.0 log 4.0 = 0.5\n",
            "Do you want to continue? (y/n): n\n",
            "Goodbye!\n"
          ]
        }
      ]
    }
  ]
}