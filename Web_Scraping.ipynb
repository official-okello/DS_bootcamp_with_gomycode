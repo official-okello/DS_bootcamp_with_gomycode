{
  "nbformat": 4,
  "nbformat_minor": 0,
  "metadata": {
    "colab": {
      "provenance": [],
      "authorship_tag": "ABX9TyMsYrrWwxP7hGop+Uwwm7dj",
      "include_colab_link": true
    },
    "kernelspec": {
      "name": "python3",
      "display_name": "Python 3"
    },
    "language_info": {
      "name": "python"
    }
  },
  "cells": [
    {
      "cell_type": "markdown",
      "metadata": {
        "id": "view-in-github",
        "colab_type": "text"
      },
      "source": [
        "<a href=\"https://colab.research.google.com/github/official-okello/DS_bootcamp_with_gomycode/blob/master/Web_Scraping.ipynb\" target=\"_parent\"><img src=\"https://colab.research.google.com/assets/colab-badge.svg\" alt=\"Open In Colab\"/></a>"
      ]
    },
    {
      "cell_type": "code",
      "execution_count": 4,
      "metadata": {
        "colab": {
          "base_uri": "https://localhost:8080/"
        },
        "id": "tXMYlA9iq7wC",
        "outputId": "f7543725-ffaf-4f2d-918e-5ccc695158a0"
      },
      "outputs": [
        {
          "output_type": "stream",
          "name": "stdout",
          "text": [
            "Article Title: Wolfgang Amadeus Mozart\n",
            "\n",
            "--- Article Content ---\n",
            "Contents\n",
            "While visiting Vienna in 1781, Mozart was dismissed from his Salzburg position. He stayed in Vienna, where he achieved fame but little financial security. During Mozart's early years in Vienna, he produced several notable works, such as the opera Die Entführung aus dem Serail, the Great Mass in C minor, the \"Haydn\" Quartets and a number of symphonies. Throughout his Vienna years, Mozart composed over a dozen piano concertos, many considered some of his greatest achievements. In the final years of his life, Mozart wrote many of his best-known works, including his last three symphonies, culminating in the Jupiter Symphony, the serenade Eine kleine Nachtmusik, his Clarinet Concerto, the operas The Marriage of Figaro, Don Giovanni, Così fan tutte and The Magic Flute and his Requiem. The Requiem was largely unfinished at the time of his death at age 35, the circumstances of which are uncertain and much mythologised.\n",
            "\n",
            "Life and career\n",
            "Mozart's modest funeral did not reflect his standing with the public as a composer; memorial services and concerts in Vienna and Prague were well attended. Indeed, in the period immediately after his death, his reputation rose substantially. Solomon describes an \"unprecedented wave of enthusiasm\"[98] for his work; biographies were written first by Schlichtegroll, Niemetschek, and Nissen, and publishers vied to produce complete editions of his works.[98]\n",
            "\n",
            "Appearance and character\n",
            "Mozart was raised a Catholic and remained a devout member of the Church throughout his life.[108][109] He embraced the teachings of Freemasonry in 1784.[110]\n",
            "\n",
            "Works, musical style, and innovations\n",
            "Although some of Mozart's early pieces were written for harpsichord, he also became acquainted in his early years with fortepianos made by Regensburg builder Franz Jakob Späth. Later when Mozart was visiting Augsburg, he was impressed by Stein fortepianos and shared this in a letter to his father.[117] On 22 October 1777, Mozart had premiered his triple-piano concerto, K. 242, on instruments provided by Stein. The Augsburg Cathedral organist Demmler was playing the first, Mozart the second and Stein the third part.[118] In 1783, when living in Vienna he purchased an instrument by Walter.[119] Leopold Mozart confirmed the attachment which Mozart had with his Walter fortepiano: \"It is impossible to describe the hustle and bustle. Your brother's pianoforte has been moved at least twelve times from his house to the theatre or to someone else's house.\"[120]\n",
            "\n",
            "Influence\n",
            "Composers have paid homage to Mozart by writing sets of variations on his themes. Beethoven wrote four such sets (Op. 66, WoO 28, WoO 40, WoO 46).[127] Others include Fernando Sor's Introduction and Variations on a Theme by Mozart (1821), Mikhail Glinka's Variations on a Theme from Mozart's Opera The Magic Flute (1822), Frédéric Chopin's Variations on \"Là ci darem la mano\" from Don Giovanni (1827), and Max Reger's Variations and Fugue on a Theme by Mozart (1914), based on the variation theme in the piano sonata K. 331.[128] Pyotr Ilyich Tchaikovsky, who revered Mozart, wrote his Orchestral Suite No. 4 in G, Mozartiana (1887), as a tribute to him.[129]\n",
            "\n",
            "Further reading\n",
            "See Buch 2017 for an extensive bibliography\n",
            "\n",
            "External links\n",
            "Sheet music\n",
            "\n",
            "\n",
            "--- Internal Links ---\n",
            "https://en.wikipedia.org/wiki/Main_Page\n",
            "https://en.wikipedia.org/wiki/Main_Page\n",
            "https://en.wikipedia.org/wiki/Wolfgang_Amadeus_Mozart\n",
            "https://en.wikipedia.org/wiki/Wolfgang_Amadeus_Mozart\n",
            "https://en.wikipedia.org/wiki/Wolfgang_Amadeus_Mozart\n",
            "https://en.wikipedia.org/wiki/Mozart_(disambiguation)\n",
            "https://en.wikipedia.org/wiki/Portrait_of_the_Mozart_Family\n",
            "https://en.wikipedia.org/wiki/Mozart%27s_birthplace\n",
            "https://en.wikipedia.org/wiki/Salzburg\n",
            "https://en.wikipedia.org/wiki/Vienna\n"
          ]
        }
      ],
      "source": [
        "# Getting and parsing html content from a Wikipedia page\n",
        "import requests as re\n",
        "from bs4 import BeautifulSoup\n",
        "\n",
        "def get_html_content(url):\n",
        "    html_response = re.get(url)\n",
        "    if html_response.status_code == 200:\n",
        "        return BeautifulSoup(html_response.text, 'html.parser')\n",
        "    else:\n",
        "        return None\n",
        "\n",
        "# Extracting article titles\n",
        "def extract_article_title(soup):\n",
        "    return soup.find('h1').text\n",
        "\n",
        "# Extracting article text for each paragraph with their respective. Mapping headings to their respective paragraphs in the dictionary.\n",
        "def extract_article_text(soup):\n",
        "    article_text = {}\n",
        "    for paragraph in soup.find_all('p'):\n",
        "        heading = paragraph.find_previous('h2')\n",
        "        if heading:\n",
        "            article_text[heading.text.strip()] = paragraph.text.strip()\n",
        "    return article_text\n",
        "\n",
        "# Collecting every link that redirects to another Wikipedia page\n",
        "def collect_internal_links(soup):\n",
        "    internal_links = []\n",
        "    for link in soup.find_all('a', href=True):\n",
        "        if link['href'].startswith('/wiki/') and ':' not in link['href']:\n",
        "            internal_links.append(\"https://en.wikipedia.org\" + link['href'])\n",
        "    return internal_links\n",
        "\n",
        "# Wrapping all the previous functions into a single function that takes as parameters a Wikipedia link\n",
        "def process_wikipedia_page(url):\n",
        "    soup = get_html_content(url)\n",
        "    if soup:\n",
        "        article_title = extract_article_title(soup)\n",
        "        article_text = extract_article_text(soup)\n",
        "        internal_links = collect_internal_links(soup)\n",
        "\n",
        "        return {\n",
        "            \"title\": article_title,\n",
        "            \"content\": article_text,\n",
        "            \"internal_links\": internal_links\n",
        "        }\n",
        "    else:\n",
        "        return None\n",
        "\n",
        "result = process_wikipedia_page('https://en.wikipedia.org/wiki/Wolfgang_Amadeus_Mozart')\n",
        "\n",
        "# Displaying Results\n",
        "if result:\n",
        "    print(f\"Article Title:\", result[\"title\"])\n",
        "    print(\"\\n--- Article Content ---\")\n",
        "    for heading, paragraph in result[\"content\"].items():\n",
        "        print(f\"{heading}\\n{paragraph}\\n\")\n",
        "\n",
        "    print(\"\\n--- Internal Links ---\")\n",
        "    for link in result[\"internal_links\"][:10]:  # Show only first 10 links\n",
        "        print(link)\n",
        "else:\n",
        "    print(\"Failed to fetch Wikipedia page.\")"
      ]
    }
  ]
}