{
  "nbformat": 4,
  "nbformat_minor": 0,
  "metadata": {
    "colab": {
      "provenance": [],
      "authorship_tag": "ABX9TyPPzdQKsoGj+FysVWeL/K47",
      "include_colab_link": true
    },
    "kernelspec": {
      "name": "python3",
      "display_name": "Python 3"
    },
    "language_info": {
      "name": "python"
    }
  },
  "cells": [
    {
      "cell_type": "markdown",
      "metadata": {
        "id": "view-in-github",
        "colab_type": "text"
      },
      "source": [
        "<a href=\"https://colab.research.google.com/github/official-okello/DS_bootcamp_with_gomycode/blob/master/ElasticNet.ipynb\" target=\"_parent\"><img src=\"https://colab.research.google.com/assets/colab-badge.svg\" alt=\"Open In Colab\"/></a>"
      ]
    },
    {
      "cell_type": "code",
      "execution_count": 1,
      "metadata": {
        "id": "Cb3tlgqXYAOj"
      },
      "outputs": [],
      "source": [
        "#Combines both L1 and L2 by introducing a mixing parameter omega\n",
        "#Regularization prevents overfitting by adding a penalty to the model's coefficients"
      ]
    },
    {
      "cell_type": "code",
      "source": [
        "import numpy as np\n",
        "import pandas as pd\n",
        "from sklearn.model_selection import train_test_split\n",
        "from sklearn.linear_model import ElasticNet\n",
        "from sklearn.preprocessing import StandardScaler\n",
        "from sklearn.metrics import mean_squared_error"
      ],
      "metadata": {
        "id": "PkzMnyiXYp1V"
      },
      "execution_count": 3,
      "outputs": []
    },
    {
      "cell_type": "code",
      "source": [
        "from os import X_OK\n",
        "data = data = {\n",
        "    \"Size\": [1500, 1800, 2100, 2500, 2800, 3100, 3500, 4000],\n",
        "    \"Bedrooms\": [3, 3, 4, 4, 5, 5, 6, 6],\n",
        "    \"LocationScore\": [7, 8, 6, 9, 7, 8, 6, 9],\n",
        "    \"Price\": [300000, 350000, 400000, 450000, 500000, 550000, 600000, 700000]\n",
        "}\n",
        "\n",
        "df = pd.DataFrame(data)\n",
        "X = df.drop('Price', axis=1)\n",
        "Y = df['Price']\n",
        "\n",
        "X_train, X_test, Y_train, Y_test = train_test_split(X, Y, test_size=0.2, random_state=42)"
      ],
      "metadata": {
        "id": "ZZUytFBCZFvj"
      },
      "execution_count": 4,
      "outputs": []
    },
    {
      "cell_type": "code",
      "source": [
        "model = ElasticNet(alpha=0.1, l1_ratio=0.5, random_state=42)\n",
        "model.fit(X_train, Y_train)\n",
        "\n",
        "Y_pred = model.predict(X_test)\n",
        "rmse = np.sqrt(mean_squared_error(Y_test, Y_pred))\n",
        "print(\"Root Mean Squared Error:\", rmse)"
      ],
      "metadata": {
        "colab": {
          "base_uri": "https://localhost:8080/"
        },
        "id": "9T6baI_pZj_1",
        "outputId": "a230e4db-13a0-471b-dd41-33210f13d4a8"
      },
      "execution_count": 6,
      "outputs": [
        {
          "output_type": "stream",
          "name": "stdout",
          "text": [
            "Root Mean Squared Error: 809.4674069217392\n"
          ]
        }
      ]
    }
  ]
}