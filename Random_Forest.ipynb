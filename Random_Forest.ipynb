{
  "nbformat": 4,
  "nbformat_minor": 0,
  "metadata": {
    "colab": {
      "provenance": [],
      "authorship_tag": "ABX9TyMF9t3grOtxBE11MphlPUn0",
      "include_colab_link": true
    },
    "kernelspec": {
      "name": "python3",
      "display_name": "Python 3"
    },
    "language_info": {
      "name": "python"
    }
  },
  "cells": [
    {
      "cell_type": "markdown",
      "metadata": {
        "id": "view-in-github",
        "colab_type": "text"
      },
      "source": [
        "<a href=\"https://colab.research.google.com/github/official-okello/DS_bootcamp_with_gomycode/blob/master/Random_Forest.ipynb\" target=\"_parent\"><img src=\"https://colab.research.google.com/assets/colab-badge.svg\" alt=\"Open In Colab\"/></a>"
      ]
    },
    {
      "cell_type": "code",
      "execution_count": 1,
      "metadata": {
        "id": "GX5i9FjAXYZm"
      },
      "outputs": [],
      "source": [
        "# import libraries\n",
        "from sklearn import datasets\n",
        "import pandas as pd\n",
        "from sklearn.model_selection import train_test_split\n",
        "from sklearn.ensemble import RandomForestClassifier\n",
        "from sklearn.metrics import accuracy_score"
      ]
    },
    {
      "cell_type": "code",
      "source": [
        "# loading iris dataset and creating a dataframe\n",
        "iris = datasets.load_iris()\n",
        "data=pd.DataFrame({\n",
        "'sepal length': iris.data[:,0],\n",
        "'sepal width': iris.data[:,1],\n",
        "'petal length': iris.data[:,2],\n",
        "'petal width': iris.data[:,3],\n",
        "'species': iris.target})"
      ],
      "metadata": {
        "id": "3xw_xZEDYNnK"
      },
      "execution_count": 2,
      "outputs": []
    },
    {
      "cell_type": "code",
      "source": [
        "# ideitify the independent and dependent variables and spliting into train and test sets\n",
        "X=data[['sepal length', 'sepal width', 'petal length', 'petal width']]\n",
        "y=data['species']\n",
        "x_train, x_test, y_train, y_test= train_test_split(X, y, test_size=0.3, random_state=42)"
      ],
      "metadata": {
        "id": "PCpfkmbVYX8a"
      },
      "execution_count": 3,
      "outputs": []
    },
    {
      "cell_type": "code",
      "source": [
        "# creating a random forest model with 10 decision trees\n",
        "clf=RandomForestClassifier(n_estimators=10)\n",
        "clf.fit(x_train, y_train)\n",
        "y_pred=clf.predict(x_test)"
      ],
      "metadata": {
        "id": "gWiH8aijX5Mq"
      },
      "execution_count": 4,
      "outputs": []
    },
    {
      "cell_type": "code",
      "source": [
        "# measuring the accuracy of our model\n",
        "print(\"Accuracy:\", accuracy_score(y_test, y_pred))"
      ],
      "metadata": {
        "colab": {
          "base_uri": "https://localhost:8080/"
        },
        "id": "GioIHF1MY7i4",
        "outputId": "2c24ce2b-ec4e-4f00-b3f6-52696dcfd233"
      },
      "execution_count": 6,
      "outputs": [
        {
          "output_type": "stream",
          "name": "stdout",
          "text": [
            "Accuracy: 1.0\n"
          ]
        }
      ]
    }
  ]
}