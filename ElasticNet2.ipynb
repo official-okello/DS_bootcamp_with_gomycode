{
  "nbformat": 4,
  "nbformat_minor": 0,
  "metadata": {
    "colab": {
      "provenance": [],
      "authorship_tag": "ABX9TyMdNPp8qMrfs2ewv07aT721",
      "include_colab_link": true
    },
    "kernelspec": {
      "name": "python3",
      "display_name": "Python 3"
    },
    "language_info": {
      "name": "python"
    }
  },
  "cells": [
    {
      "cell_type": "markdown",
      "metadata": {
        "id": "view-in-github",
        "colab_type": "text"
      },
      "source": [
        "<a href=\"https://colab.research.google.com/github/official-okello/DS_bootcamp_with_gomycode/blob/master/ElasticNet2.ipynb\" target=\"_parent\"><img src=\"https://colab.research.google.com/assets/colab-badge.svg\" alt=\"Open In Colab\"/></a>"
      ]
    },
    {
      "cell_type": "code",
      "execution_count": 6,
      "metadata": {
        "id": "L6wyATA7bRzD"
      },
      "outputs": [],
      "source": [
        "import numpy as np\n",
        "import pandas as pd\n",
        "from sklearn.model_selection import train_test_split\n",
        "from sklearn.linear_model import ElasticNet\n",
        "from sklearn.preprocessing import LabelEncoder\n",
        "from sklearn.metrics import mean_squared_error, mean_absolute_error, r2_score"
      ]
    },
    {
      "cell_type": "code",
      "source": [
        "data = pd.read_csv('/content/50_Startups.csv')\n",
        "\n",
        "le = LabelEncoder()\n",
        "data['State'] = le.fit_transform(data['State'])\n",
        "X = data.drop('Profit', axis=1)\n",
        "Y = data['Profit']\n",
        "\n",
        "X_train, X_test, Y_train, Y_test = train_test_split(X, Y, test_size=0.2, random_state=42)"
      ],
      "metadata": {
        "id": "PVUGtKeZbwxO"
      },
      "execution_count": 10,
      "outputs": []
    },
    {
      "cell_type": "code",
      "source": [
        "elastic_model = ElasticNet(alpha=0.1, l1_ratio=0.5, random_state=42)\n",
        "elastic_model.fit(X_train, Y_train)\n",
        "\n",
        "Y_pred_elastic = elastic_model.predict(X_test)"
      ],
      "metadata": {
        "id": "lqlJJKekcemt"
      },
      "execution_count": 11,
      "outputs": []
    },
    {
      "cell_type": "code",
      "source": [
        "mae_elastic = mean_absolute_error(Y_test, Y_pred_elastic)\n",
        "mse_elastic = mean_squared_error(Y_test, Y_pred_elastic)\n",
        "rmse_elastic = np.sqrt(mse_elastic)\n",
        "r2_elastic = r2_score(Y_test, Y_pred_elastic)\n",
        "\n",
        "print(f\"ElasticNet Regression Results:\")\n",
        "print(f\"MAE: {mae_elastic:.2f}\")\n",
        "print(f\"MSE: {mse_elastic:.2f}\")\n",
        "print(f\"RMSE: {rmse_elastic:.2f}\")\n",
        "print(f\"R² Score: {r2_elastic:.2f}\")"
      ],
      "metadata": {
        "colab": {
          "base_uri": "https://localhost:8080/"
        },
        "id": "d6QcY9tOeJ4R",
        "outputId": "70aa21bc-a95b-4a9b-b871-589f1db8dc7d"
      },
      "execution_count": 12,
      "outputs": [
        {
          "output_type": "stream",
          "name": "stdout",
          "text": [
            "ElasticNet Regression Results:\n",
            "MAE: 6979.17\n",
            "MSE: 80929198.67\n",
            "RMSE: 8996.07\n",
            "R² Score: 0.90\n"
          ]
        }
      ]
    }
  ]
}