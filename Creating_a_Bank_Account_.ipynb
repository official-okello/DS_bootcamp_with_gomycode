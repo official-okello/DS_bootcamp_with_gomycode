{
  "nbformat": 4,
  "nbformat_minor": 0,
  "metadata": {
    "colab": {
      "provenance": [],
      "authorship_tag": "ABX9TyNzWKYOnTd1Iv7uo1yG1AN9",
      "include_colab_link": true
    },
    "kernelspec": {
      "name": "python3",
      "display_name": "Python 3"
    },
    "language_info": {
      "name": "python"
    }
  },
  "cells": [
    {
      "cell_type": "markdown",
      "metadata": {
        "id": "view-in-github",
        "colab_type": "text"
      },
      "source": [
        "<a href=\"https://colab.research.google.com/github/official-okello/DS_bootcamp_with_gomycode/blob/master/Creating_a_Bank_Account_.ipynb\" target=\"_parent\"><img src=\"https://colab.research.google.com/assets/colab-badge.svg\" alt=\"Open In Colab\"/></a>"
      ]
    },
    {
      "cell_type": "code",
      "execution_count": null,
      "metadata": {
        "id": "j_cASJCP3EUe"
      },
      "outputs": [],
      "source": [
        "# Create a class called \"Account\" that has the following attributes:\n",
        "\n",
        "# account_number (string)\n",
        "# account_balance (float)\n",
        "# account_holder (string)\n",
        "# The class should have the following methods:\n",
        "\n",
        "# deposit(amount: float) - This method should add the amount passed as an argument to the account balance.\n",
        "# withdraw(amount: float) - This method should subtract the amount passed as an argument from the account balance,\n",
        "# but only if the account balance is greater than the amount being withdrawn.\n",
        "# check_balance() - This method should return the current account balance."
      ]
    },
    {
      "cell_type": "code",
      "source": [
        "class Account:\n",
        "  def __init__(self, account_number, account_holder, account_balance):\n",
        "    self.account_number = account_number\n",
        "    self.account_holder = account_holder\n",
        "    self.account_balance = account_balance\n",
        "\n",
        "  def deposit(self, amount):\n",
        "    if amount <= 0:\n",
        "      return \"Invalid amount, must be greater than zero\"\n",
        "    self.account_balance += amount\n",
        "    return self.account_balance\n",
        "\n",
        "  def withdraw(self, amount):\n",
        "    if amount <= 0:\n",
        "      return \"Invalid amount, must be greater than zero\"\n",
        "    if self.account_balance < amount:\n",
        "      return \"Insufficient funds\"\n",
        "    self.account_balance -= amount\n",
        "    return self.account_balance\n",
        "\n",
        "  def check_balance(self):\n",
        "    return self.account_balance"
      ],
      "metadata": {
        "id": "ZxT6OvkZ3Xu8"
      },
      "execution_count": null,
      "outputs": []
    },
    {
      "cell_type": "code",
      "source": [
        "# Create an instance of the Account class, and assign it to a variable called \"my_account\".\n",
        "my_account = Account(\"123456789\", \"Julius Okello\", 1000.0)\n",
        "\n",
        "# Use the methods of the class to deposit and withdraw money from the account, and check the account balance.\n",
        "my_account.deposit(1000.0)\n",
        "my_account.withdraw(500.0)\n",
        "print(my_account.check_balance())\n",
        "\n",
        "# Test the program by creating multiple instances of the class and performing different transactions on them.\n",
        "my_account2 = Account(\"987654321\", \"Sophia Atieno\", 2000.0)\n",
        "my_account2.deposit(500.0)\n",
        "my_account2.withdraw(1000.0)\n",
        "print(my_account2.check_balance())\n",
        "\n",
        "my_account3 = Account(\"555555555\", \"John Doe\", 1500.0)\n",
        "my_account3.deposit(1000.0)\n",
        "my_account3.withdraw(500.0)\n",
        "print(my_account3.check_balance())"
      ],
      "metadata": {
        "colab": {
          "base_uri": "https://localhost:8080/"
        },
        "id": "F_ZMgQv6_D3T",
        "outputId": "66cc0074-4ad0-47ea-b933-1b1b2abef435"
      },
      "execution_count": null,
      "outputs": [
        {
          "output_type": "stream",
          "name": "stdout",
          "text": [
            "1500.0\n",
            "1500.0\n",
            "2000.0\n"
          ]
        }
      ]
    }
  ]
}